{
    "cells": [
        {
            "cell_type": "code",
            "execution_count": 2,
            "source": [
                "from pydistro import *"
            ],
            "outputs": [],
            "metadata": {}
        },
        {
            "cell_type": "code",
            "execution_count": 3,
            "source": [
                "pk = Pkgcomp(get_latest_vers=False, debug=True)\r\n",
                "df = pk()\r\n",
                "print(df.head())"
            ],
            "outputs": [
                {
                    "output_type": "stream",
                    "name": "stdout",
                    "text": [
                        "LOADING DB FROM \"C:\\_PROG_\\Projects\\pydistrocomp\\pypkg.json\" ...\n",
                        "LOADED 576 PACKAGE DEFS\n",
                        "\n",
                        "COLLECTING PACKAGE LISTS FROM 1 ENVS ...\n",
                        ">>> RETRIEVED PKS FOR ENV: 3.9.5\n",
                        "COLLECTED 540 PACKAGES FROM 1 ENVS\n",
                        "\n",
                        "UPDATING DB WITH 3 PACKAGES ...\n",
                        ">>> UPDATED PK: wheel\n",
                        ">>> UPDATED PK: pip\n",
                        ">>> UPDATED PK: setuptools\n",
                        "DB UPDATED\n",
                        "SAVING DB TO \"C:\\_PROG_\\Projects\\pydistrocomp\\pypkg.json\" ...\n",
                        "SAVED 579 PACKAGE DEFS\n",
                        "                name                               author  \\\n",
                        "adodbapi    adodbapi  Henrik Ekelund, Vernon Cole, et.al.   \n",
                        "affine        affine                         Sean Gillies   \n",
                        "aiofiles    aiofiles                        Tin Tvrtkovic   \n",
                        "aiohttp      aiohttp                          Nikolay Kim   \n",
                        "aiosqlite  aiosqlite                           John Reese   \n",
                        "...              ...                                  ...   \n",
                        "yarl            yarl                       Andrew Svetlov   \n",
                        "zarr            zarr                                        \n",
                        "zict            zict                                        \n",
                        "zipp            zipp                      Jason R. Coombs   \n",
                        "zstandard  zstandard                        Gregory Szorc   \n",
                        "\n",
                        "                                                     summary  \\\n",
                        "adodbapi   A pure Python package implementing PEP 249 DB-...   \n",
                        "affine     Matrices describing affine transformation of t...   \n",
                        "aiofiles                           File support for asyncio.   \n",
                        "aiohttp         Async http client/server framework (asyncio)   \n",
                        "aiosqlite      asyncio bridge to the standard sqlite3 module   \n",
                        "...                                                      ...   \n",
                        "yarl                                 Yet another URL library   \n",
                        "zarr       An implementation of chunked, compressed, N-di...   \n",
                        "zict                                   Mutable mapping tools   \n",
                        "zipp       Backport of pathlib-compatible object wrapper ...   \n",
                        "zstandard                      Zstandard bindings for Python   \n",
                        "\n",
                        "                                                 homepage       latest  \\\n",
                        "adodbapi         http://sourceforge.net/projects/adodbapi      2.6.2.0   \n",
                        "affine                 https://github.com/sgillies/affine        2.3.0   \n",
                        "aiofiles                                                         0.7.0   \n",
                        "aiohttp               https://github.com/aio-libs/aiohttp  3.7.4.post0   \n",
                        "aiosqlite                   https://aiosqlite.omnilib.dev       0.17.0   \n",
                        "...                                                   ...          ...   \n",
                        "yarl                    https://github.com/aio-libs/yarl/        1.6.3   \n",
                        "zarr       https://github.com/zarr-developers/zarr-python        2.9.4   \n",
                        "zict                http://zict.readthedocs.io/en/latest/        2.0.0   \n",
                        "zipp                       https://github.com/jaraco/zipp        3.5.0   \n",
                        "zstandard    https://github.com/indygreg/python-zstandard       0.15.2   \n",
                        "\n",
                        "                 3.9.5  \n",
                        "adodbapi       2.6.1.3  \n",
                        "affine           2.3.0  \n",
                        "aiofiles         0.6.0  \n",
                        "aiohttp    3.7.4.post0  \n",
                        "aiosqlite       0.17.0  \n",
                        "...                ...  \n",
                        "yarl             1.6.3  \n",
                        "zarr             2.8.3  \n",
                        "zict             2.0.0  \n",
                        "zipp             3.4.1  \n",
                        "zstandard       0.15.2  \n",
                        "\n",
                        "[540 rows x 6 columns]\n"
                    ]
                }
            ],
            "metadata": {}
        }
    ],
    "metadata": {
        "orig_nbformat": 4,
        "language_info": {
            "name": "python",
            "version": "3.9.5",
            "mimetype": "text/x-python",
            "codemirror_mode": {
                "name": "ipython",
                "version": 3
            },
            "pygments_lexer": "ipython3",
            "nbconvert_exporter": "python",
            "file_extension": ".py"
        },
        "kernelspec": {
            "name": "python3",
            "display_name": "Python 3.9.5 64-bit"
        },
        "interpreter": {
            "hash": "31bf8cfed18b24c59f0c3007adb339f20870f0af76c472b10c3c8361fc25ab7d"
        }
    },
    "nbformat": 4,
    "nbformat_minor": 2
}