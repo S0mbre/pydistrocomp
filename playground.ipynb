{
    "cells": [
        {
            "cell_type": "code",
            "execution_count": null,
            "source": [
                "from pydistro import *"
            ],
            "outputs": [],
            "metadata": {}
        },
        {
            "cell_type": "code",
            "execution_count": null,
            "source": [
                "pk = Pkgcomp(get_latest_vers=False, debug=True)\r\n",
                "df = pk()\r\n",
                "print(df.head())"
            ],
            "outputs": [],
            "metadata": {}
        }
    ],
    "metadata": {
        "orig_nbformat": 4,
        "language_info": {
            "name": "python",
            "version": "3.9.5",
            "mimetype": "text/x-python",
            "codemirror_mode": {
                "name": "ipython",
                "version": 3
            },
            "pygments_lexer": "ipython3",
            "nbconvert_exporter": "python",
            "file_extension": ".py"
        },
        "kernelspec": {
            "name": "python3",
            "display_name": "Python 3.9.5 64-bit"
        },
        "interpreter": {
            "hash": "31bf8cfed18b24c59f0c3007adb339f20870f0af76c472b10c3c8361fc25ab7d"
        }
    },
    "nbformat": 4,
    "nbformat_minor": 2
}